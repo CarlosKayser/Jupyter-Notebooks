{
 "cells": [
  {
   "cell_type": "code",
   "execution_count": 1,
   "metadata": {},
   "outputs": [],
   "source": [
    "# Importação das libs\n",
    "# -*- coding: utf-8 -*-\n",
    "import pandas as pd\n",
    "import numpy as np \n",
    "from sklearn.model_selection import train_test_split\n",
    "from sklearn.metrics import accuracy_score, confusion_matrix, f1_score, recall_score\n",
    "from sklearn.neighbors import KNeighborsClassifier\n",
    "import matplotlib.pyplot as plt\n",
    "import itertools\n",
    "import seaborn as sns\n",
    "from imblearn.over_sampling import SMOTE"
   ]
  },
  {
   "cell_type": "code",
   "execution_count": 2,
   "metadata": {},
   "outputs": [],
   "source": [
    "# Fonte https://scikit-learn.org/stable/auto_examples/model_selection/plot_confusion_matrix.html\n",
    "\n",
    "def plot_confusion_matrix(cm, classes,\n",
    "                          normalize=False,\n",
    "                          title='Confusion matrix',\n",
    "                          cmap=plt.cm.Blues):\n",
    "    \"\"\"\n",
    "    This function prints and plots the confusion matrix.\n",
    "    Normalization can be applied by setting `normalize=True`.\n",
    "    \"\"\"\n",
    "    if normalize:\n",
    "        cm = cm.astype('float') / cm.sum(axis=1)[:, np.newaxis]\n",
    "        print(\"Matriz de confusão normalizada\")\n",
    "    else:\n",
    "        print('Matriz de confusão, sem normalização')\n",
    "\n",
    "    print(cm)\n",
    "\n",
    "    plt.imshow(cm, interpolation='nearest', cmap=cmap)\n",
    "    plt.title(title)\n",
    "    plt.colorbar()\n",
    "    tick_marks = np.arange(len(classes))\n",
    "    plt.xticks(tick_marks, classes, rotation=45)\n",
    "    plt.yticks(tick_marks, classes)\n",
    "\n",
    "    fmt = '.2f' if normalize else 'd'\n",
    "    thresh = cm.max() / 2.\n",
    "    for i, j in itertools.product(range(cm.shape[0]), range(cm.shape[1])):\n",
    "        plt.text(j, i, format(cm[i, j], fmt),\n",
    "                 horizontalalignment=\"center\",\n",
    "                 color=\"white\" if cm[i, j] > thresh else \"black\")\n",
    "\n",
    "    plt.ylabel('Classes verdadeiras')\n",
    "    plt.xlabel('Classes classificadas')\n",
    "    plt.tight_layout()"
   ]
  },
  {
   "cell_type": "code",
   "execution_count": 3,
   "metadata": {},
   "outputs": [],
   "source": [
    "# Carregando o dataset\n",
    "dataset = pd.read_csv('creditcardfraud/creditcard.csv')\n",
    "\n",
    "# Como a coluna time representa somente o tempo entre cada transação, logo é irrelevante\n",
    "dataset.drop('Time', axis=1, inplace=True)"
   ]
  },
  {
   "cell_type": "markdown",
   "metadata": {},
   "source": [
    "# Dados desbalanceados"
   ]
  },
  {
   "cell_type": "code",
   "execution_count": 7,
   "metadata": {},
   "outputs": [
    {
     "name": "stdout",
     "output_type": "stream",
     "text": [
      "Fraudes: 0.173 %\n",
      "Não fraudes: 99.827 %\n",
      "Quantidade de dados:  284806\n"
     ]
    },
    {
     "data": {
      "image/png": "[encoded data removed]",
      "text/plain": [
       "<Figure size 432x288 with 1 Axes>"
      ]
     },
     "metadata": {
      "needs_background": "light"
     },
     "output_type": "display_data"
    }
   ],
   "source": [
    "# Como as classes não são equivalentes, devemos montar um dataset com a mesma proporção para as duas classes\n",
    "colors = [\"#5863F8\", \"#FF1B1C\"]\n",
    "\n",
    "fraudes = dataset[dataset['Class'] == 1]\n",
    "no_fraudes = dataset[dataset['Class'] == 0]\n",
    "\n",
    "# Quantidades de exemplos de fraudes\n",
    "print('Fraudes: {0:.3f}'.format((len(fraudes)/len(dataset))*100), '%')\n",
    "\n",
    "# Quantidades de exemplos de ñ fraudes\n",
    "print('Não fraudes: {0:.3f}'.format((len(no_fraudes)/len(dataset))*100), '%')\n",
    "\n",
    "print('Quantidade de dados: ', dataset.shape[0])\n",
    "\n",
    "sns.countplot('Class', data=dataset, palette=colors)\n",
    "plt.title('Classes desbalanceadas', fontsize=14)\n",
    "plt.xlabel('Classes')\n",
    "plt.ylabel('Transações')\n",
    "plt.show()"
   ]
  },
  {
   "cell_type": "markdown",
   "metadata": {},
   "source": [
    "# Realizar o balanceamento dos dados com SMOTE"
   ]
  },
  {
   "cell_type": "code",
   "execution_count": 8,
   "metadata": {},
   "outputs": [],
   "source": [
    "# Drop na coluna da classe para posteriormente divisão entre dados para treinamento e validação\n",
    "x_dataset = dataset.drop('Class',axis=1)\n",
    "y_dataset = dataset.Class\n",
    "\n",
    "# Iremos aplicar a técnica de SMOTE somente nos dados de treinamento\n",
    "# Fonte: https://imbalanced-learn.readthedocs.io/en/stable/generated/imblearn.over_sampling.SMOTE.html\n",
    "\n",
    "# sampling_strategy = 'minority' -> Significa que será feita a reamostragem na classe minoritária\n",
    "sm = SMOTE(sampling_strategy='minority', k_neighbors=5, random_state=2)\n",
    "\n",
    "# Aqui será realizado o processo de criação sintética de novos pontos\n",
    "x_dataset, y_dataset = sm.fit_sample(x_dataset, y_dataset)"
   ]
  },
  {
   "cell_type": "markdown",
   "metadata": {},
   "source": [
    "# Dados balanceados"
   ]
  },
  {
   "cell_type": "code",
   "execution_count": null,
   "metadata": {},
   "outputs": [],
   "source": [
    "\"\"\"new_dataset = pd.DataFrame(x_dataset)\n",
    "\n",
    "new_dataset = pd.concat(x_dataset, y_dataset)\n",
    "\n",
    "sns.countplot('Class', data=y_dataset, palette=colors)\n",
    "plt.title('Classes balanceadas', fontsize=14)\n",
    "plt.show()\"\"\""
   ]
  },
  {
   "cell_type": "code",
   "execution_count": 9,
   "metadata": {},
   "outputs": [
    {
     "name": "stderr",
     "output_type": "stream",
     "text": [
      "c:\\python35\\lib\\site-packages\\sklearn\\model_selection\\_split.py:2069: FutureWarning: From version 0.21, test_size will always complement train_size unless both are specified.\n",
      "  FutureWarning)\n"
     ]
    },
    {
     "name": "stdout",
     "output_type": "stream",
     "text": [
      "Matriz de confusão, sem normalização\n",
      "[[84770   369]\n",
      " [    7 85443]]\n"
     ]
    },
    {
     "data": {
      "image/png": "[encoded data removed]",
      "text/plain": [
       "<Figure size 432x288 with 2 Axes>"
      ]
     },
     "metadata": {
      "needs_background": "light"
     },
     "output_type": "display_data"
    },
    {
     "name": "stdout",
     "output_type": "stream",
     "text": [
      "Quantidade de fraudes:  85450\n",
      "Quantidade de não fraudes:  85139\n",
      "Quantidade dados treinamento:  398039\n",
      "Quantidade dados testes:  170589\n",
      "Acuracidade: 0.9978 %\n",
      "F1 Score: 0.9978 %\n",
      "Recall: 0.9999 %\n"
     ]
    }
   ],
   "source": [
    "# Dividindo o dataset de forma alearória entre validação e treinamento\n",
    "x_train_res, x_test_res, y_train_res, y_test_res = train_test_split(x_dataset, y_dataset, train_size = 0.70, random_state=0)\n",
    "\n",
    "# Usaremos KNN para a classificação, com 5 K Vizinhos, p = 2 para usarmos a distância euclidiana\n",
    "knn = KNeighborsClassifier(n_neighbors = 5, p = 2).fit(x_train_res, y_train_res)\n",
    "\n",
    "# Realizando as classficações\n",
    "y_predict = knn.predict(x_test_res) # x_test vindo de train_test_split\n",
    "\n",
    "# Criar a matriz de confusão\n",
    "mc = confusion_matrix(y_test_res, y_predict)\n",
    "\n",
    "class_names = ['Não fraude', 'Fraude']\n",
    "plt.figure()\n",
    "plot_confusion_matrix(mc, classes=class_names, title='Matriz de confusão')\n",
    "plt.show()\n",
    "\n",
    "print('Quantidade de fraudes: ', sum(y_test_res == 1))\n",
    "print('Quantidade de não fraudes: ', sum(y_test_res == 0))\n",
    "\n",
    "print('Quantidade dados treinamento: ', len(x_train_res))\n",
    "print('Quantidade dados testes: ', len(x_test_res))\n",
    "\n",
    "# Metricas\n",
    "print('Acuracidade: {0:.4f}'.format(accuracy_score(y_test_res, y_predict)), '%')\n",
    "print('F1 Score: {0:.4f}'.format(f1_score(y_test_res, y_predict)), '%')\n",
    "print('Recall: {0:.4f}' .format(recall_score(y_test_res, y_predict)), '%')"
   ]
  }
 ],
 "metadata": {
  "kernelspec": {
   "display_name": "Python 3",
   "language": "python",
   "name": "python3"
  },
  "language_info": {
   "codemirror_mode": {
    "name": "ipython",
    "version": 3
   },
   "file_extension": ".py",
   "mimetype": "text/x-python",
   "name": "python",
   "nbconvert_exporter": "python",
   "pygments_lexer": "ipython3",
   "version": "3.7.0"
  }
 },
 "nbformat": 4,
 "nbformat_minor": 2
}
